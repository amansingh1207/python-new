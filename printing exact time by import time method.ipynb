{
 "cells": [
  {
   "cell_type": "code",
   "execution_count": 2,
   "metadata": {},
   "outputs": [
    {
     "name": "stdout",
     "output_type": "stream",
     "text": [
      "23\n",
      "good night\n"
     ]
    }
   ],
   "source": [
    "import time\n",
    "t=time.strftime(\"%H:%M:%S\")\n",
    "hour=int(time.strftime(\"%H\"))\n",
    "print(hour)\n",
    "if hour>=0 and hour<12:\n",
    "    print(\"Good Morning\")\n",
    "elif hour>=12 and hour<16:\n",
    "    print(\"good afternoon\")\n",
    "else:\n",
    "    print(\"good night\")"
   ]
  }
 ],
 "metadata": {
  "kernelspec": {
   "display_name": "Python 3",
   "language": "python",
   "name": "python3"
  },
  "language_info": {
   "codemirror_mode": {
    "name": "ipython",
    "version": 3
   },
   "file_extension": ".py",
   "mimetype": "text/x-python",
   "name": "python",
   "nbconvert_exporter": "python",
   "pygments_lexer": "ipython3",
   "version": "3.12.5"
  }
 },
 "nbformat": 4,
 "nbformat_minor": 2
}
