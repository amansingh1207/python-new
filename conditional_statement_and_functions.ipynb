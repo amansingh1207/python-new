{
 "cells": [
  {
   "cell_type": "code",
   "execution_count": 1,
   "metadata": {},
   "outputs": [
    {
     "name": "stdout",
     "output_type": "stream",
     "text": [
      "two distinct complex roots\n"
     ]
    }
   ],
   "source": [
    "a=5\n",
    "b=5\n",
    "c=2\n",
    "D=b**2-4*a*c\n",
    "if D>0:\n",
    "    print(\"two distinct real roots\")\n",
    "elif D<0:\n",
    "    print(\"two distinct complex roots\")\n",
    "else:\n",
    "    print(\"one real root\")"
   ]
  },
  {
   "cell_type": "code",
   "execution_count": 12,
   "metadata": {},
   "outputs": [
    {
     "name": "stdout",
     "output_type": "stream",
     "text": [
      "two distinct complex roots\n",
      "(-0.5+0.3872983346207417j) (-0.5-0.3872983346207417j)\n",
      "real part is: -0.5\n",
      "imaginary part is: 0.3872983346207417\n"
     ]
    }
   ],
   "source": [
    "a=5\n",
    "b=5\n",
    "c=2\n",
    "D=b**2-4*a*c\n",
    "x1=(-b+(D)**0.5)/(2*a)\n",
    "x2=(-b-(D)**0.5)/(2*a)\n",
    "if D>0:\n",
    "    print(\"two distinct real roots\")\n",
    "elif D<0:\n",
    "    print(\"two distinct complex roots\")\n",
    "    print(x1,x2)\n",
    "    re=-b/(2*a)\n",
    "    im=(-D)**0.5/(2*a)\n",
    "    print(\"real part is:\",re)\n",
    "    print(\"imaginary part is:\",im)\n",
    "\n",
    "else:\n",
    "    print(\"one real root:\",-b/(2*a))"
   ]
  },
  {
   "cell_type": "code",
   "execution_count": 18,
   "metadata": {},
   "outputs": [
    {
     "name": "stdout",
     "output_type": "stream",
     "text": [
      "c is greatest\n"
     ]
    }
   ],
   "source": [
    "#given 3 unequal number find greatest\n",
    "a=3\n",
    "b=2\n",
    "c=5\n",
    "if a>b and a>c:\n",
    "    print(\"a is greatest\")\n",
    "elif b>a:\n",
    "    print(\"b is greatest\")\n",
    "\n",
    "else:\n",
    "    print(\"c is greatest\")\n",
    "\n",
    "    \n",
    "\n",
    "\n",
    "\n",
    "\n"
   ]
  },
  {
   "cell_type": "code",
   "execution_count": 39,
   "metadata": {},
   "outputs": [
    {
     "name": "stdout",
     "output_type": "stream",
     "text": [
      " a is equal to b\n"
     ]
    }
   ],
   "source": [
    "a=6\n",
    "b=6\n",
    "c=5\n",
    "if a>=b:\n",
    "    if a>b:\n",
    "        if a>c:\n",
    "            print(\"a is greatest\")\n",
    "    else:\n",
    "        print(\" a is equal to b\")\n",
    "elif b>a:\n",
    "    if b>=c:\n",
    "        if b>c:\n",
    "            print(\"b is greatest\")\n",
    "    else:\n",
    "        print(\"b is equal to c\")\n",
    "else:\n",
    "    print('c is greatest')\n"
   ]
  },
  {
   "cell_type": "code",
   "execution_count": 27,
   "metadata": {},
   "outputs": [
    {
     "name": "stdout",
     "output_type": "stream",
     "text": [
      "person is teenager\n"
     ]
    }
   ],
   "source": [
    "#given the age of a person,find out she/he is child .teenager or adult\n",
    "age=14\n",
    "if age<13:\n",
    "    print(\"person is child\")\n",
    "elif age>=13 and age<=19:\n",
    "    print(\"person is teenager\")\n",
    "else:\n",
    "    print(\"person is adult\")\n"
   ]
  },
  {
   "cell_type": "code",
   "execution_count": 32,
   "metadata": {},
   "outputs": [
    {
     "name": "stdout",
     "output_type": "stream",
     "text": [
      "all three points lie on a straight line\n"
     ]
    }
   ],
   "source": [
    "#give 3 points in 2d space\n",
    "#check if lie on a line\n",
    "x1=1\n",
    "y1=2\n",
    "x2=2\n",
    "y2=4\n",
    "x3=4\n",
    "y3=8\n",
    "d=((x3-x1)**(2)+(y3-y1)**(2))**0.5\n",
    "if ((x2-x1)**(2)+(y2-y1)**(2))**0.5+((x3-x2)**(2)+(y3-y2)**(2))**0.5==d:\n",
    "    print(\"all three points lie on a straight line\")\n",
    "else:\n",
    "    print(\"all three points not lie on a straight line\")\n"
   ]
  },
  {
   "cell_type": "code",
   "execution_count": 37,
   "metadata": {},
   "outputs": [
    {
     "name": "stdout",
     "output_type": "stream",
     "text": [
      "leap year\n"
     ]
    }
   ],
   "source": [
    "#write a code to check if a given year is a leap year or not\n",
    "year=2024\n",
    "if (year%4)==0:\n",
    "    print(\"leap year\")\n",
    "elif (year%100)==0:\n",
    "    print(\" not a leap year\")\n",
    "else:\n",
    "    print(\"a leap year\")"
   ]
  },
  {
   "cell_type": "code",
   "execution_count": 38,
   "metadata": {},
   "outputs": [
    {
     "name": "stdout",
     "output_type": "stream",
     "text": [
      "x is equals to y\n"
     ]
    }
   ],
   "source": [
    "#check which is greatest\n",
    "def greatest(x,y):\n",
    "    if x>=y:\n",
    "        if x>y:\n",
    "            return \"x is greater\"\n",
    "        else:\n",
    "            return \"x is equals to y\"\n",
    "    else:\n",
    "        return \"y is greater\"\n",
    "print(greatest(5,5))\n",
    "    "
   ]
  },
  {
   "cell_type": "code",
   "execution_count": 40,
   "metadata": {},
   "outputs": [
    {
     "name": "stdout",
     "output_type": "stream",
     "text": [
      "b is equal to c\n"
     ]
    }
   ],
   "source": [
    "def greatest(a,b,c):\n",
    "    if a>=b:\n",
    "        if a>b:\n",
    "            if a>c:\n",
    "                print(\"a is greatest\")\n",
    "        else:\n",
    "                print(\" a is equal to b\")\n",
    "    elif b>a:\n",
    "        if b>=c:\n",
    "            if b>c:\n",
    "                print(\"b is greatest\")\n",
    "        else:\n",
    "            print(\"b is equal to c\")\n",
    "    else:\n",
    "        print('c is greatest')\n",
    "greatest(1,2,3)\n"
   ]
  }
 ],
 "metadata": {
  "kernelspec": {
   "display_name": "Python 3",
   "language": "python",
   "name": "python3"
  },
  "language_info": {
   "codemirror_mode": {
    "name": "ipython",
    "version": 3
   },
   "file_extension": ".py",
   "mimetype": "text/x-python",
   "name": "python",
   "nbconvert_exporter": "python",
   "pygments_lexer": "ipython3",
   "version": "3.12.5"
  }
 },
 "nbformat": 4,
 "nbformat_minor": 2
}
